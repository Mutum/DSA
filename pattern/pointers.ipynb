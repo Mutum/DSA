{
 "cells": [
  {
   "cell_type": "code",
   "execution_count": 1,
   "metadata": {},
   "outputs": [
    {
     "data": {
      "text/plain": [
       "True"
      ]
     },
     "execution_count": 1,
     "metadata": {},
     "output_type": "execute_result"
    }
   ],
   "source": [
    "test_string = \"mutum\"\n",
    "\n",
    "# palindrome\n",
    "\n",
    "def check_palindrome(test_string : str):\n",
    "\n",
    "    test_string = test_string.lower()\n",
    "    test_string = \"\".join(x for x in test_string if x != \" \")\n",
    "\n",
    "    left , right = 0 , len(test_string) -1\n",
    "\n",
    "    while left < right:\n",
    "        if test_string[left] != test_string[right]:\n",
    "            return False\n",
    "        \n",
    "        left +=1\n",
    "        right -=1\n",
    "    \n",
    "    return True\n",
    "\n",
    "check_palindrome(test_string )"
   ]
  },
  {
   "cell_type": "code",
   "execution_count": 2,
   "metadata": {},
   "outputs": [
    {
     "data": {
      "text/plain": [
       "[5, 4, 3, 2, 1]"
      ]
     },
     "execution_count": 2,
     "metadata": {},
     "output_type": "execute_result"
    }
   ],
   "source": [
    "# Reversing an array: Given an array of integers, reverse it in place.\n",
    "\n",
    "test_array = [1, 2, 3, 4,5]\n",
    "\n",
    "def reverse_array(test_array : list):\n",
    "\n",
    "    left , right = 0, len(test_array)-1\n",
    "\n",
    "    while left < right:\n",
    "        left_value , right_value = test_array[left], test_array[right]\n",
    "\n",
    "        test_array[left] = right_value\n",
    "        test_array[right] =left_value\n",
    "\n",
    "        left +=1\n",
    "        right -=1\n",
    "    \n",
    "    return test_array\n",
    "\n",
    "reverse_array(test_array)"
   ]
  },
  {
   "cell_type": "code",
   "execution_count": 3,
   "metadata": {},
   "outputs": [
    {
     "name": "stdout",
     "output_type": "stream",
     "text": [
      "[[-3, 0, 3], [-3, 1, 2], [-1, -1, 2], [-1, 0, 1]]\n"
     ]
    }
   ],
   "source": [
    "\n",
    "# Problem: 3Sum\n",
    "# Given an integer array, nums, find and return all unique triplets [nums[i], nums[j], nums[k]], \n",
    "# such that i ≠j ,i≠k and j ≠k and nums[i] + nums[j] + nums[k] ==0\n",
    "\n",
    "test_nums = [-3,-1,-1,0,1,2,3,3]\n",
    "\n",
    "def three_sum(nums: list):\n",
    "    nums.sort()  # sort entire list once\n",
    "    result = []\n",
    "    \n",
    "    n = len(nums)\n",
    "    \n",
    "    for i in range(n - 2):\n",
    "        # Skip duplicate fixed elements\n",
    "        if i > 0 and nums[i] == nums[i - 1]:\n",
    "            continue\n",
    "        \n",
    "        left, right = i + 1, n - 1  # two pointers\n",
    "        while left < right:\n",
    "            three_total = nums[i] + nums[left] + nums[right]\n",
    "            \n",
    "            if three_total == 0:\n",
    "                result.append([nums[i], nums[left], nums[right]])\n",
    "                \n",
    "                # Skip duplicates for left and right\n",
    "                while left < right and nums[left] == nums[left + 1]:\n",
    "                    left += 1\n",
    "                while left < right and nums[right] == nums[right - 1]:\n",
    "                    right -= 1\n",
    "                \n",
    "                left += 1\n",
    "                right -= 1\n",
    "            \n",
    "            elif three_total < 0:\n",
    "                left += 1\n",
    "            else:\n",
    "                right -= 1\n",
    "    \n",
    "    return result\n",
    "\n",
    "\n",
    "# Test\n",
    "test_nums = [-3, -1, -1, 0, 1, 2, 3, 3]\n",
    "print(three_sum(test_nums))\n"
   ]
  },
  {
   "cell_type": "code",
   "execution_count": 4,
   "metadata": {},
   "outputs": [
    {
     "data": {
      "text/plain": [
       "[0, 0, 1]"
      ]
     },
     "execution_count": 4,
     "metadata": {},
     "output_type": "execute_result"
    }
   ],
   "source": [
    "# sort colors\n",
    "# Given an array, colors, which contains a combination of the following three elements:\n",
    "\n",
    "# 0 (Representing red)\n",
    "# 1 (Representing white)\n",
    "# 2 (Representing blue)\n",
    "\n",
    "# Sort the array in place so that the elements of the same color are adjacent,\n",
    "#  and the final order is: red (0), then white (1), and then blue (2).\n",
    "\n",
    "input_cols = [0,1,0]\n",
    "\n",
    "def sort_colors(colors):\n",
    "    # Initialize the start, current, and end pointers\n",
    "    start, current, end = 0, 0, len(colors) - 1\n",
    "\n",
    "    # Iterate through the list until the current pointer exceeds the end pointer\n",
    "    while current <= end:\n",
    "        if colors[current] == 0:\n",
    "            # If the current element is 0 (red), swap it with the element at the start pointer\n",
    "            # This ensures the red element is placed at the beginning of the array\n",
    "            colors[start], colors[current] = colors[current], colors[start]\n",
    "            # Move both the start and current pointers one position forward\n",
    "            current += 1\n",
    "            start += 1\n",
    "\n",
    "        elif colors[current] == 1:\n",
    "            # If the current element is 1 (white), just move the current pointer one position forward\n",
    "            current += 1\n",
    "\n",
    "        else:\n",
    "            # If the current element is 2 (blue), swap it with the element at the end pointer\n",
    "            # This pushes the blue element to the end of the array\n",
    "            colors[current], colors[end] = colors[end], colors[current]\n",
    "            # Move the end pointer one position backward\n",
    "            end -= 1\n",
    "    return colors\n",
    "\n",
    "sort_colors(input_cols)"
   ]
  },
  {
   "cell_type": "code",
   "execution_count": null,
   "metadata": {},
   "outputs": [],
   "source": []
  }
 ],
 "metadata": {
  "kernelspec": {
   "display_name": "base",
   "language": "python",
   "name": "python3"
  },
  "language_info": {
   "codemirror_mode": {
    "name": "ipython",
    "version": 3
   },
   "file_extension": ".py",
   "mimetype": "text/x-python",
   "name": "python",
   "nbconvert_exporter": "python",
   "pygments_lexer": "ipython3",
   "version": "3.12.2"
  }
 },
 "nbformat": 4,
 "nbformat_minor": 2
}
